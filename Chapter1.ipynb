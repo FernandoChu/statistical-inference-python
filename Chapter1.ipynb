{
 "cells": [
  {
   "cell_type": "code",
   "execution_count": 1,
   "id": "2137b205-8a55-4665-ac15-b682a2f3c62f",
   "metadata": {},
   "outputs": [],
   "source": [
    "import itertools\n",
    "\n",
    "import matplotlib.pyplot as plt\n",
    "from matplotlib import ticker\n",
    "\n",
    "plt.style.use(\"seaborn\")"
   ]
  },
  {
   "cell_type": "markdown",
   "id": "67dcff7d-7bd7-4d42-83a8-7dac3533a98e",
   "metadata": {
    "tags": []
   },
   "source": [
    "# Counting"
   ]
  },
  {
   "cell_type": "markdown",
   "id": "069d44c7-0a93-4a0f-b315-0aa9db42d461",
   "metadata": {},
   "source": [
    "### Ordered without replacement\n",
    "Extract $r$ objects from $n$ is $$\\frac{n!}{r!}$$"
   ]
  },
  {
   "cell_type": "code",
   "execution_count": 2,
   "id": "3ff181d4-cdd0-48dd-9d08-547aab92f707",
   "metadata": {},
   "outputs": [
    {
     "name": "stdout",
     "output_type": "stream",
     "text": [
      "[('A', 'B'), ('A', 'C'), ('A', 'D'), ('A', 'E'), ('B', 'A'), ('B', 'C'), ('B', 'D'), ('B', 'E'), ('C', 'A'), ('C', 'B'), ('C', 'D'), ('C', 'E'), ('D', 'A'), ('D', 'B'), ('D', 'C'), ('D', 'E'), ('E', 'A'), ('E', 'B'), ('E', 'C'), ('E', 'D')]\n"
     ]
    },
    {
     "data": {
      "text/plain": [
       "20"
      ]
     },
     "execution_count": 2,
     "metadata": {},
     "output_type": "execute_result"
    }
   ],
   "source": [
    "permutations = list(itertools.permutations(\"ABCDE\", 2))\n",
    "print(permutations)\n",
    "len(permutations)"
   ]
  },
  {
   "cell_type": "markdown",
   "id": "30d2dbc2-eece-408a-b9e8-7ee0c1c74e0c",
   "metadata": {},
   "source": [
    "### Ordered with replacement\n",
    "Extract $r$ objects from $n$ is $$n^r$$"
   ]
  },
  {
   "cell_type": "code",
   "execution_count": 3,
   "id": "ad69ba46-0fb5-45b3-af40-fb14d73eb194",
   "metadata": {},
   "outputs": [
    {
     "name": "stdout",
     "output_type": "stream",
     "text": [
      "[('A', 'A'), ('A', 'B'), ('A', 'C'), ('A', 'D'), ('A', 'E'), ('B', 'A'), ('B', 'B'), ('B', 'C'), ('B', 'D'), ('B', 'E'), ('C', 'A'), ('C', 'B'), ('C', 'C'), ('C', 'D'), ('C', 'E'), ('D', 'A'), ('D', 'B'), ('D', 'C'), ('D', 'D'), ('D', 'E'), ('E', 'A'), ('E', 'B'), ('E', 'C'), ('E', 'D'), ('E', 'E')]\n"
     ]
    },
    {
     "data": {
      "text/plain": [
       "25"
      ]
     },
     "execution_count": 3,
     "metadata": {},
     "output_type": "execute_result"
    }
   ],
   "source": [
    "products = list(itertools.product(\"ABCDE\", repeat=2))\n",
    "print(products)\n",
    "len(products)"
   ]
  },
  {
   "cell_type": "markdown",
   "id": "e17117be-c0d2-4862-96b5-c3e3948c2706",
   "metadata": {},
   "source": [
    "### Unordered without replacement\n",
    "Extract $r$ objects from $n$ is $$\\binom{n}{r}=\\frac{n!}{r!(n-r)!}$$"
   ]
  },
  {
   "cell_type": "code",
   "execution_count": 4,
   "id": "aaa61e5d-3c76-46c7-a434-d6f957138d30",
   "metadata": {},
   "outputs": [
    {
     "name": "stdout",
     "output_type": "stream",
     "text": [
      "[('A', 'B'), ('A', 'C'), ('A', 'D'), ('A', 'E'), ('B', 'C'), ('B', 'D'), ('B', 'E'), ('C', 'D'), ('C', 'E'), ('D', 'E')]\n"
     ]
    },
    {
     "data": {
      "text/plain": [
       "10"
      ]
     },
     "execution_count": 4,
     "metadata": {},
     "output_type": "execute_result"
    }
   ],
   "source": [
    "combinations = list(itertools.combinations(\"ABCDE\", 2))\n",
    "print(combinations)\n",
    "len(combinations)"
   ]
  },
  {
   "cell_type": "markdown",
   "id": "2d5b2825-818b-4c1b-97e3-b853f5ece9c9",
   "metadata": {},
   "source": [
    "### Unordered with replacement\n",
    "Extract $r$ objects from $n$ is $$\\binom{n+r-1}{r}=\\frac{n!}{r!(n-r)!}$$"
   ]
  },
  {
   "cell_type": "code",
   "execution_count": 5,
   "id": "0048a487-664d-40db-8181-11ed390c378f",
   "metadata": {},
   "outputs": [
    {
     "name": "stdout",
     "output_type": "stream",
     "text": [
      "[('A', 'A'), ('A', 'B'), ('A', 'C'), ('A', 'D'), ('A', 'E'), ('B', 'B'), ('B', 'C'), ('B', 'D'), ('B', 'E'), ('C', 'C'), ('C', 'D'), ('C', 'E'), ('D', 'D'), ('D', 'E'), ('E', 'E')]\n"
     ]
    },
    {
     "data": {
      "text/plain": [
       "15"
      ]
     },
     "execution_count": 5,
     "metadata": {},
     "output_type": "execute_result"
    }
   ],
   "source": [
    "combinationswr = list(itertools.combinations_with_replacement(\"ABCDE\", 2))\n",
    "print(combinationswr)\n",
    "len(combinationswr)"
   ]
  },
  {
   "cell_type": "markdown",
   "id": "c2147627-2104-4a28-bee0-82f285026f85",
   "metadata": {},
   "source": [
    "# Examples"
   ]
  },
  {
   "cell_type": "markdown",
   "id": "1dc590f7-3f39-4e29-946f-806f0317d879",
   "metadata": {},
   "source": [
    "## Poker"
   ]
  },
  {
   "cell_type": "code",
   "execution_count": 6,
   "id": "d2928339-64b9-490b-8a61-fd744326d357",
   "metadata": {},
   "outputs": [
    {
     "name": "stdout",
     "output_type": "stream",
     "text": [
      "[(1, 'S'), (1, 'H'), (1, 'C'), (1, 'D'), (2, 'S'), (2, 'H'), (2, 'C'), (2, 'D'), (3, 'S'), (3, 'H'), (3, 'C'), (3, 'D'), (4, 'S'), (4, 'H'), (4, 'C'), (4, 'D'), (5, 'S'), (5, 'H'), (5, 'C'), (5, 'D'), (6, 'S'), (6, 'H'), (6, 'C'), (6, 'D'), (7, 'S'), (7, 'H'), (7, 'C'), (7, 'D'), (8, 'S'), (8, 'H'), (8, 'C'), (8, 'D'), (9, 'S'), (9, 'H'), (9, 'C'), (9, 'D'), (10, 'S'), (10, 'H'), (10, 'C'), (10, 'D'), (11, 'S'), (11, 'H'), (11, 'C'), (11, 'D'), (12, 'S'), (12, 'H'), (12, 'C'), (12, 'D'), (13, 'S'), (13, 'H'), (13, 'C'), (13, 'D')]\n",
      "2598960\n"
     ]
    },
    {
     "data": {
      "text/plain": [
       "[((1, 'S'), (1, 'H'), (1, 'C'), (1, 'D'), (2, 'S')),\n",
       " ((1, 'S'), (1, 'H'), (1, 'C'), (1, 'D'), (2, 'H')),\n",
       " ((1, 'S'), (1, 'H'), (1, 'C'), (1, 'D'), (2, 'C'))]"
      ]
     },
     "execution_count": 6,
     "metadata": {},
     "output_type": "execute_result"
    }
   ],
   "source": [
    "cards = list((n, p) for n in range(1, 14) for p in [\"S\", \"H\", \"C\", \"D\"])\n",
    "print(cards)\n",
    "combs = list(itertools.combinations(cards, 5))\n",
    "print(len(combs))\n",
    "combs[:3]"
   ]
  },
  {
   "cell_type": "code",
   "execution_count": 7,
   "id": "77999d38-b5bd-4c04-a41c-8bebd0f53af9",
   "metadata": {},
   "outputs": [
    {
     "name": "stdout",
     "output_type": "stream",
     "text": [
      "48\n"
     ]
    }
   ],
   "source": [
    "hands_with_aces = list(\n",
    "    filter(\n",
    "        lambda hand: (1, \"S\") in hand\n",
    "        and (1, \"H\") in hand\n",
    "        and (1, \"C\") in hand\n",
    "        and (1, \"D\") in hand,\n",
    "        combs,\n",
    "    )\n",
    ")\n",
    "print(len(hands_with_aces))"
   ]
  },
  {
   "cell_type": "markdown",
   "id": "f9fc38cc-df64-4ab6-9abe-64a7a6542a97",
   "metadata": {},
   "source": [
    "# Calculating an average"
   ]
  },
  {
   "cell_type": "code",
   "execution_count": 8,
   "id": "1c06c146-d610-4ea9-9220-afc588b7df33",
   "metadata": {},
   "outputs": [
    {
     "name": "stdout",
     "output_type": "stream",
     "text": [
      "256\n"
     ]
    },
    {
     "data": {
      "text/plain": [
       "[(2, 2, 2, 2), (2, 2, 2, 4), (2, 2, 2, 9)]"
      ]
     },
     "execution_count": 8,
     "metadata": {},
     "output_type": "execute_result"
    }
   ],
   "source": [
    "nums = [2, 4, 9, 12]\n",
    "ordered_samples = list(itertools.product(nums, repeat=4))\n",
    "print(len(ordered_samples))\n",
    "ordered_samples[:3]"
   ]
  },
  {
   "cell_type": "code",
   "execution_count": 9,
   "id": "f3585607-2ce1-447d-9dbe-c587201c93d1",
   "metadata": {},
   "outputs": [
    {
     "name": "stdout",
     "output_type": "stream",
     "text": [
      "{2.0: 1, 2.5: 4, 3.75: 4, 4.5: 4, 3.0: 6, 4.25: 12, 5.0: 12, 5.5: 18, 6.25: 12, 7.0: 6, 3.5: 4, 4.75: 12, 6.0: 16, 6.75: 24, 7.5: 12, 7.25: 16, 8.0: 18, 8.75: 12, 9.5: 4, 4.0: 1, 5.25: 4, 6.5: 6, 7.75: 4, 8.5: 12, 9.25: 12, 10.0: 4, 9.0: 1, 9.75: 4, 10.5: 6, 11.25: 4, 12.0: 1}\n"
     ]
    }
   ],
   "source": [
    "counts = {}\n",
    "for tup in ordered_samples:\n",
    "    avg = sum(tup) / 4\n",
    "    if avg in counts:\n",
    "        counts[avg] += 1\n",
    "    else:\n",
    "        counts[avg] = 1\n",
    "\n",
    "print(counts)"
   ]
  },
  {
   "cell_type": "code",
   "execution_count": 10,
   "id": "e3eabc1f-491f-40a4-b11b-4e35799893dc",
   "metadata": {},
   "outputs": [
    {
     "data": {
      "text/plain": [
       "<BarContainer object of 31 artists>"
      ]
     },
     "execution_count": 10,
     "metadata": {},
     "output_type": "execute_result"
    },
    {
     "data": {
      "image/png": "[encoded data removed]",
      "text/plain": [
       "<Figure size 864x360 with 1 Axes>"
      ]
     },
     "metadata": {},
     "output_type": "display_data"
    }
   ],
   "source": [
    "fig, ax = plt.subplots(figsize=(12, 5))\n",
    "ax.set_xticks(range(2, 13))\n",
    "ax.set_xlabel(\"Averages\")\n",
    "ax.set_ylabel(\"Probability\")\n",
    "ax.set_title(\"Probabilities of averages of samples\", fontsize=17)\n",
    "ax.bar(\n",
    "    counts.keys(),\n",
    "    list(map(lambda x: x / 256, counts.values())),\n",
    "    width=0.25,\n",
    "    edgecolor=\"white\",\n",
    "    linewidth=0.7,\n",
    ")"
   ]
  },
  {
   "cell_type": "code",
   "execution_count": null,
   "id": "6fffadf3-d370-4290-87db-8d5d9d5e7f64",
   "metadata": {},
   "outputs": [],
   "source": []
  }
 ],
 "metadata": {
  "kernelspec": {
   "display_name": "Python 3 (ipykernel)",
   "language": "python",
   "name": "python3"
  },
  "language_info": {
   "codemirror_mode": {
    "name": "ipython",
    "version": 3
   },
   "file_extension": ".py",
   "mimetype": "text/x-python",
   "name": "python",
   "nbconvert_exporter": "python",
   "pygments_lexer": "ipython3",
   "version": "3.9.12"
  }
 },
 "nbformat": 4,
 "nbformat_minor": 5
}
