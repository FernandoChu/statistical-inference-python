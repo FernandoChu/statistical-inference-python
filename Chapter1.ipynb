{
 "cells": [
  {
   "cell_type": "markdown",
   "id": "67dcff7d-7bd7-4d42-83a8-7dac3533a98e",
   "metadata": {
    "tags": []
   },
   "source": [
    "# Counting"
   ]
  },
  {
   "cell_type": "markdown",
   "id": "069d44c7-0a93-4a0f-b315-0aa9db42d461",
   "metadata": {},
   "source": [
    "### Ordered without replacement\n",
    "Extract $r$ objects from $n$ is $$\\frac{n!}{r!}$$"
   ]
  },
  {
   "cell_type": "code",
   "execution_count": null,
   "id": "ad69ba46-0fb5-45b3-af40-fb14d73eb194",
   "metadata": {},
   "outputs": [],
   "source": [
    "def ordered_withouth_replacement(s, n):\n",
    "    return 0"
   ]
  },
  {
   "cell_type": "markdown",
   "id": "30d2dbc2-eece-408a-b9e8-7ee0c1c74e0c",
   "metadata": {},
   "source": [
    "### Ordered with replacement\n",
    "Extract $r$ objects from $n$ is $$n^r$$"
   ]
  },
  {
   "cell_type": "markdown",
   "id": "e17117be-c0d2-4862-96b5-c3e3948c2706",
   "metadata": {},
   "source": [
    "### Unordered without replacement\n",
    "Extract $r$ objects from $n$ is $$\\binom{n}{r}=\\frac{n!}{r!(n-r)!}$$"
   ]
  },
  {
   "cell_type": "code",
   "execution_count": 45,
   "id": "aaa61e5d-3c76-46c7-a434-d6f957138d30",
   "metadata": {},
   "outputs": [
    {
     "data": {
      "text/plain": [
       "[[1, 2], [1, 3], [1, 4], [2, 3], [2, 4], [3, 4]]"
      ]
     },
     "execution_count": 45,
     "metadata": {},
     "output_type": "execute_result"
    }
   ],
   "source": [
    "def combinations(array, r, prev_array=[]):\n",
    "    if len(prev_array) == r:\n",
    "        return [prev_array]\n",
    "    combs = []\n",
    "    for i, val in enumerate(array):\n",
    "        prev_array_extended = prev_array.copy()\n",
    "        prev_array_extended.append(val)\n",
    "        combs += combinations(array[i + 1 :], r, prev_array_extended)\n",
    "    return combs\n",
    "\n",
    "\n",
    "combinations([1, 2, 3, 4], 2)"
   ]
  },
  {
   "cell_type": "markdown",
   "id": "2d5b2825-818b-4c1b-97e3-b853f5ece9c9",
   "metadata": {},
   "source": [
    "### Unordered with replacement\n",
    "Extract $r$ objects from $n$ is $$\\binom{n+r-1}{r}=\\frac{n!}{r!(n-r)!}$$"
   ]
  },
  {
   "cell_type": "code",
   "execution_count": 120,
   "id": "0048a487-664d-40db-8181-11ed390c378f",
   "metadata": {},
   "outputs": [],
   "source": []
  }
 ],
 "metadata": {
  "kernelspec": {
   "display_name": "Python 3 (ipykernel)",
   "language": "python",
   "name": "python3"
  },
  "language_info": {
   "codemirror_mode": {
    "name": "ipython",
    "version": 3
   },
   "file_extension": ".py",
   "mimetype": "text/x-python",
   "name": "python",
   "nbconvert_exporter": "python",
   "pygments_lexer": "ipython3",
   "version": "3.9.12"
  }
 },
 "nbformat": 4,
 "nbformat_minor": 5
}
