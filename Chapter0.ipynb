{
 "cells": [
  {
   "cell_type": "markdown",
   "id": "0d846e7b-6b4a-4754-9b49-44051d0282cc",
   "metadata": {},
   "source": [
    "# Basic Types"
   ]
  },
  {
   "cell_type": "code",
   "execution_count": 31,
   "id": "11d4cea4-cc7a-4a7f-bcbe-bf71b5c147af",
   "metadata": {},
   "outputs": [
    {
     "name": "stdout",
     "output_type": "stream",
     "text": [
      "1\n",
      "<class 'int'>\n"
     ]
    }
   ],
   "source": [
    "a = 1\n",
    "print(a)\n",
    "print(type(a))"
   ]
  },
  {
   "cell_type": "code",
   "execution_count": 32,
   "id": "cd93ffc0-d507-4b21-8f23-7ae888e728f2",
   "metadata": {},
   "outputs": [
    {
     "name": "stdout",
     "output_type": "stream",
     "text": [
      "1.34\n",
      "<class 'float'>\n"
     ]
    }
   ],
   "source": [
    "b = 1.34\n",
    "print(b)\n",
    "print(type(b))"
   ]
  },
  {
   "cell_type": "code",
   "execution_count": 33,
   "id": "0266aec6-99d7-458f-8921-0eea72a984d7",
   "metadata": {},
   "outputs": [
    {
     "name": "stdout",
     "output_type": "stream",
     "text": [
      "arst\n",
      "<class 'str'>\n"
     ]
    }
   ],
   "source": [
    "c = \"arst\"\n",
    "print(c)\n",
    "print(type(c))"
   ]
  },
  {
   "cell_type": "code",
   "execution_count": 34,
   "id": "7effd558-ea62-42d9-ae48-2eb53c291cab",
   "metadata": {},
   "outputs": [],
   "source": [
    "# This is a comment"
   ]
  },
  {
   "cell_type": "markdown",
   "id": "1b253a7e-706b-4c9b-9820-9e72227895aa",
   "metadata": {},
   "source": [
    "# Sets"
   ]
  },
  {
   "cell_type": "code",
   "execution_count": 35,
   "id": "87a00e88-5c4d-407a-a2e5-102994f5f169",
   "metadata": {},
   "outputs": [
    {
     "name": "stdout",
     "output_type": "stream",
     "text": [
      "{1, 2, 3, 1.44234, 'arst'}\n",
      "<class 'set'>\n"
     ]
    }
   ],
   "source": [
    "my_set = {1,2,3,\"arst\",1.44234}\n",
    "print(my_set)\n",
    "print(type(my_set))"
   ]
  },
  {
   "cell_type": "code",
   "execution_count": 36,
   "id": "e92055d4-aa2b-4dd1-b752-2275e315f514",
   "metadata": {},
   "outputs": [
    {
     "name": "stdout",
     "output_type": "stream",
     "text": [
      "{'D', 'H', 'C', 'S'}\n",
      "{'D'}\n",
      "{'H', 'S'}\n"
     ]
    }
   ],
   "source": [
    "S = {'C','D','H','S'}\n",
    "A = {'C','D'}\n",
    "B = {'D','H','S'}\n",
    "print(A.union(B))\n",
    "print(A.intersection(B))\n",
    "print(S.difference(A))"
   ]
  },
  {
   "cell_type": "markdown",
   "id": "b7cd01ca-9bac-409a-96ce-1d98f85e8d7a",
   "metadata": {},
   "source": [
    "# Lists"
   ]
  },
  {
   "cell_type": "code",
   "execution_count": 37,
   "id": "5fca8b31-482c-4bf9-87fe-a08c4acc9dd4",
   "metadata": {},
   "outputs": [],
   "source": [
    "list1 = [1, 2, 3, 4, 5]\n",
    "list2 = [3, 4, 5, 6]"
   ]
  },
  {
   "cell_type": "code",
   "execution_count": 38,
   "id": "f4cb9b33-6667-4721-b7e0-6de87456cf4a",
   "metadata": {},
   "outputs": [
    {
     "name": "stdout",
     "output_type": "stream",
     "text": [
      "1\n",
      "2\n",
      "[2, 3]\n",
      "[1, 2, 3]\n",
      "[2, 3, 4, 5]\n"
     ]
    }
   ],
   "source": [
    "print(list1[0])\n",
    "print(list1[1])\n",
    "print(list1[1:3])\n",
    "print(list1[:3])\n",
    "print(list1[1:])"
   ]
  },
  {
   "cell_type": "code",
   "execution_count": 39,
   "id": "434423e7-d721-4469-bda9-86fc6fcc5afd",
   "metadata": {},
   "outputs": [
    {
     "data": {
      "text/plain": [
       "[1, 2, 3, 4, 5, 10]"
      ]
     },
     "execution_count": 39,
     "metadata": {},
     "output_type": "execute_result"
    }
   ],
   "source": [
    "list1.append(10)\n",
    "list1"
   ]
  },
  {
   "cell_type": "code",
   "execution_count": 40,
   "id": "25f43fc4-b4d1-4564-b00c-116b4055a5c2",
   "metadata": {},
   "outputs": [
    {
     "data": {
      "text/plain": [
       "6"
      ]
     },
     "execution_count": 40,
     "metadata": {},
     "output_type": "execute_result"
    }
   ],
   "source": [
    "len(list1)"
   ]
  },
  {
   "cell_type": "code",
   "execution_count": 41,
   "id": "9a15fda8-331e-49c3-8c23-fb9736e2d382",
   "metadata": {},
   "outputs": [
    {
     "name": "stdout",
     "output_type": "stream",
     "text": [
      "[1, 2, 3, 4, 5, 10]\n",
      "[1, 2, 20, 4, 5, 10]\n"
     ]
    }
   ],
   "source": [
    "print(list1)\n",
    "list1[2] = 20\n",
    "print(list1)"
   ]
  },
  {
   "cell_type": "code",
   "execution_count": 42,
   "id": "016074b0-daad-46e4-b4dc-368275110235",
   "metadata": {},
   "outputs": [
    {
     "data": {
      "text/plain": [
       "[1, 2, 3, 1.44234, 'arst']"
      ]
     },
     "execution_count": 42,
     "metadata": {},
     "output_type": "execute_result"
    }
   ],
   "source": [
    "list(my_set)"
   ]
  },
  {
   "cell_type": "markdown",
   "id": "72e864d6-7688-4aa5-ad3e-b49a8c813c14",
   "metadata": {},
   "source": [
    "# Functions"
   ]
  },
  {
   "cell_type": "code",
   "execution_count": 43,
   "id": "cbd0ab7b-811c-4862-b4ca-6661c28dbc39",
   "metadata": {},
   "outputs": [
    {
     "data": {
      "text/plain": [
       "6"
      ]
     },
     "execution_count": 43,
     "metadata": {},
     "output_type": "execute_result"
    }
   ],
   "source": [
    "def double(n):\n",
    "    doubled_n = n + n\n",
    "    return doubled_n\n",
    "\n",
    "double(3)"
   ]
  },
  {
   "cell_type": "code",
   "execution_count": 48,
   "id": "3f07ad21-f6ee-48b7-b3f9-1bda2691eaf0",
   "metadata": {},
   "outputs": [
    {
     "name": "stdout",
     "output_type": "stream",
     "text": [
      "Hello Mr flan\n",
      "Hello Phd. flan\n"
     ]
    }
   ],
   "source": [
    "def greet(name, title=\"Mr \"):\n",
    "    print(\"Hello \" + title + name)\n",
    "\n",
    "greet(\"flan\")\n",
    "greet(\"flan\", \"Phd. \")"
   ]
  },
  {
   "cell_type": "code",
   "execution_count": 45,
   "id": "d87ffddf-c40c-430c-a0b9-b655ec94da6a",
   "metadata": {},
   "outputs": [
    {
     "data": {
      "text/plain": [
       "6"
      ]
     },
     "execution_count": 45,
     "metadata": {},
     "output_type": "execute_result"
    }
   ],
   "source": [
    "def fib(n):\n",
    "    if n==1:\n",
    "        return 1\n",
    "    else:\n",
    "        return n + fib(n-1)\n",
    "\n",
    "fib(3)"
   ]
  },
  {
   "cell_type": "markdown",
   "id": "0bf95a12-b73d-4666-94c8-921894824cc7",
   "metadata": {},
   "source": [
    "# Loops"
   ]
  },
  {
   "cell_type": "code",
   "execution_count": 46,
   "id": "0c40650b-b6c0-41a5-8f79-9b8b35e10969",
   "metadata": {},
   "outputs": [
    {
     "name": "stdout",
     "output_type": "stream",
     "text": [
      "[1, 2, 3]\n",
      "[1, 2, 3]\n",
      "[1, 2, 3]\n"
     ]
    }
   ],
   "source": [
    "my_list = [1,2,3]\n",
    "for n in my_list:\n",
    "    print(my_list)"
   ]
  },
  {
   "cell_type": "code",
   "execution_count": 47,
   "id": "498b3c23-a52c-4a30-bc48-7945dbede7ae",
   "metadata": {},
   "outputs": [
    {
     "name": "stdout",
     "output_type": "stream",
     "text": [
      "1\n",
      "2\n",
      "3\n",
      "1.44234\n",
      "arst\n"
     ]
    }
   ],
   "source": [
    "for el in my_set:\n",
    "    print(el)"
   ]
  },
  {
   "cell_type": "code",
   "execution_count": null,
   "id": "39edf948-f854-4eb6-bfe5-580dc13a1929",
   "metadata": {},
   "outputs": [],
   "source": []
  }
 ],
 "metadata": {
  "kernelspec": {
   "display_name": "Python3 - python",
   "language": "python",
   "name": "ipython_python"
  },
  "language_info": {
   "codemirror_mode": {
    "name": "ipython",
    "version": 3
   },
   "file_extension": ".py",
   "mimetype": "text/x-python",
   "name": "python",
   "nbconvert_exporter": "python",
   "pygments_lexer": "ipython3",
   "version": "3.9.6"
  }
 },
 "nbformat": 4,
 "nbformat_minor": 5
}
